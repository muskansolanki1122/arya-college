{
 "cells": [
  {
   "cell_type": "markdown",
   "metadata": {},
   "source": [
    "# assinment=1"
   ]
  },
  {
   "cell_type": "markdown",
   "metadata": {},
   "source": [
    "### 1. How do lists and tuples differ in terms of mutability and performance? When would you choose one over the other?\n",
    "\n",
    "### Mutability:\n",
    "* List: Lists are mutable, meaning that you can modify their elements after they are created. You can add, remove, or change elements in a list.\n",
    "* Tuple: Tuples are immutable, meaning that once a tuple is created, you cannot change its elements, add new elements, or remove existing ones.\n",
    "### Performance:\n",
    "* List: Lists have a higher overhead because they need extra memory for mutability. This makes operations like append and delete a bit slower compared to tuples.\n",
    "* Tuple: Tuples are more memory efficient and have a faster performance compared to lists because they are immutable and thus require less memory for storage.\n",
    "\n",
    "### When to Choose One Over the Other:\n",
    "Choose a list when you need to modify the collection of items (add, remove, change elements).\n",
    "Choose a tuple when you do not need to modify the collection, want faster performance, or want to ensure the integrity of the data (e.g., as a fixed sequence of elements or keys for dictionaries)."
   ]
  },
  {
   "cell_type": "markdown",
   "metadata": {},
   "source": [
    "### 2. Explain how Python handles type conversion between different data types, such as between integers and floats or between strings and lists.\n",
    "Python provides several built-in functions for type conversion (casting) between different data types. Here’s how it works:\n",
    "\n",
    "### Between Integers and Floats:\n",
    "\n",
    "* int(): Converts a floating-point number to an integer by truncating the decimal part.\n",
    "* float(): Converts an integer or a string to a floating-point number.\n"
   ]
  },
  {
   "cell_type": "code",
   "execution_count": 2,
   "metadata": {},
   "outputs": [
    {
     "name": "stdout",
     "output_type": "stream",
     "text": [
      "3\n",
      "10.0\n"
     ]
    }
   ],
   "source": [
    "x = 10      # int\n",
    "y = 3.5     # float\n",
    "\n",
    "# Convert float to int\n",
    "z = int(y)  # z becomes 3\n",
    "print(z)\n",
    "\n",
    "# Convert int to float\n",
    "w = float(x) # w becomes 10.0\n",
    "print(w)\n"
   ]
  },
  {
   "cell_type": "markdown",
   "metadata": {},
   "source": [
    "### Between Strings and Lists:\n",
    "\n",
    "* str(): Converts other types (integers, floats, lists, etc.) to a string.\n",
    "* list(): Converts an iterable (such as a string or a tuple) to a list of characters."
   ]
  },
  {
   "cell_type": "markdown",
   "metadata": {},
   "source": [
    "### 3. Take a number and use the += operator to increase its value by 10."
   ]
  },
  {
   "cell_type": "code",
   "execution_count": null,
   "metadata": {},
   "outputs": [
    {
     "name": "stdout",
     "output_type": "stream",
     "text": [
      "15\n"
     ]
    }
   ],
   "source": [
    "# Taking a number\n",
    "num = 5\n",
    "# Increasing its value by 10 using += operator\n",
    "num += 10\n",
    "print(num) \n"
   ]
  },
  {
   "cell_type": "markdown",
   "metadata": {},
   "source": [
    "### 4. Write a Python program to check if a given year is a leap year or not."
   ]
  },
  {
   "cell_type": "code",
   "execution_count": null,
   "metadata": {},
   "outputs": [
    {
     "name": "stdout",
     "output_type": "stream",
     "text": [
      "2000 is a leap year.\n"
     ]
    }
   ],
   "source": [
    "def is_leap_year(year):\n",
    "    if (year % 4 == 0 and year % 100 != 0) or (year % 400 == 0):\n",
    "        return True\n",
    "    else:\n",
    "        return False\n",
    "\n",
    "# Taking input from user\n",
    "year = int(input(\"Enter a year: \"))\n",
    "\n",
    "if is_leap_year(year):\n",
    "    print(f\"{year} is a leap year.\")\n",
    "else:\n",
    "    print(f\"{year} is not a leap year.\")\n"
   ]
  },
  {
   "cell_type": "markdown",
   "metadata": {},
   "source": [
    "### 5. Write a program that asks the user to enter their marks and displays their grade.\n",
    "their grade:\n",
    "• 90-100: A\n",
    "• 80-89: B \n",
    "• 70-79: C \n",
    "• 60-69: D \n",
    "• Below 60: F \n"
   ]
  },
  {
   "cell_type": "code",
   "execution_count": null,
   "metadata": {},
   "outputs": [
    {
     "name": "stdout",
     "output_type": "stream",
     "text": [
      "Your grade is: A\n"
     ]
    }
   ],
   "source": [
    "marks = int(input(\"Enter your marks: \"))\n",
    "\n",
    "# Determining the grade based on marks\n",
    "if 90 <= marks <= 100:\n",
    "    grade='A'\n",
    "elif 80 <= marks <= 89:\n",
    "    grade = 'B'\n",
    "elif 70 <= marks <= 79:\n",
    "    grade = 'C'\n",
    "elif 60 <= marks <= 69:\n",
    "    grade = 'D'\n",
    "else:\n",
    "    grade = 'F'\n",
    "\n",
    "print(f\"Your grade is: {grade}\")\n"
   ]
  }
 ],
 "metadata": {
  "kernelspec": {
   "display_name": "Python 3",
   "language": "python",
   "name": "python3"
  },
  "language_info": {
   "codemirror_mode": {
    "name": "ipython",
    "version": 3
   },
   "file_extension": ".py",
   "mimetype": "text/x-python",
   "name": "python",
   "nbconvert_exporter": "python",
   "pygments_lexer": "ipython3",
   "version": "3.12.5"
  }
 },
 "nbformat": 4,
 "nbformat_minor": 2
}
